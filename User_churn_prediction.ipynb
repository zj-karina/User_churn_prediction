{
  "nbformat": 4,
  "nbformat_minor": 0,
  "metadata": {
    "colab": {
      "provenance": []
    },
    "kernelspec": {
      "name": "python3",
      "display_name": "Python 3"
    },
    "language_info": {
      "name": "python"
    }
  },
  "cells": [
    {
      "cell_type": "code",
      "metadata": {
        "id": "lzLqEeZKEEYz"
      },
      "source": [
        "import pandas as pd\n",
        "import numpy as np\n",
        "from matplotlib import pyplot as plt"
      ],
      "execution_count": null,
      "outputs": []
    },
    {
      "cell_type": "code",
      "source": [
        "!gdown 1ERwQ5odiK1Zvi1LtjpkzCMUswYsAX8_K  # train.csv\n",
        "!gdown 1fGw_-RFwvn_LEdt91Jq-7A-wzG6mmH8r  # test.csv\n",
        "!gdown 199Mt4OYZNaelT83U-HGDsEYs2YcUGQ6y  # submission.csv"
      ],
      "metadata": {
        "id": "XULA1f3ch6RL",
        "outputId": "e2154acd-3949-426f-e5c7-20e5f71d8031",
        "colab": {
          "base_uri": "https://localhost:8080/"
        }
      },
      "execution_count": null,
      "outputs": [
        {
          "output_type": "stream",
          "name": "stdout",
          "text": [
            "Downloading...\n",
            "From: https://drive.google.com/uc?id=1ERwQ5odiK1Zvi1LtjpkzCMUswYsAX8_K\n",
            "To: /content/train.csv\n",
            "100% 664k/664k [00:00<00:00, 100MB/s]\n",
            "Downloading...\n",
            "From: https://drive.google.com/uc?id=1fGw_-RFwvn_LEdt91Jq-7A-wzG6mmH8r\n",
            "To: /content/test.csv\n",
            "100% 218k/218k [00:00<00:00, 43.2MB/s]\n",
            "Downloading...\n",
            "From: https://drive.google.com/uc?id=199Mt4OYZNaelT83U-HGDsEYs2YcUGQ6y\n",
            "To: /content/submission.csv\n",
            "100% 14.7k/14.7k [00:00<00:00, 22.5MB/s]\n"
          ]
        }
      ]
    },
    {
      "cell_type": "code",
      "metadata": {
        "id": "pw-Brue9EEY3"
      },
      "source": [
        "data = pd.read_csv('./train.csv')"
      ],
      "execution_count": null,
      "outputs": []
    },
    {
      "cell_type": "code",
      "source": [
        "data.head(5)"
      ],
      "metadata": {
        "id": "0ZrqFeCD4x37",
        "outputId": "0c0b52c7-518f-44ea-947a-15f8698cec0a",
        "colab": {
          "base_uri": "https://localhost:8080/",
          "height": 322
        }
      },
      "execution_count": null,
      "outputs": [
        {
          "output_type": "execute_result",
          "data": {
            "text/plain": [
              "   ClientPeriod  MonthlySpending TotalSpent     Sex  IsSeniorCitizen  \\\n",
              "0            55            19.50    1026.35    Male                0   \n",
              "1            72            25.85     1872.2    Male                0   \n",
              "2             1            75.90       75.9    Male                0   \n",
              "3            32            79.30       2570  Female                1   \n",
              "4            60           115.25    6758.45  Female                0   \n",
              "\n",
              "  HasPartner HasChild HasPhoneService HasMultiplePhoneNumbers  \\\n",
              "0        Yes      Yes             Yes                      No   \n",
              "1        Yes       No             Yes                     Yes   \n",
              "2         No       No             Yes                      No   \n",
              "3        Yes       No             Yes                     Yes   \n",
              "4        Yes      Yes             Yes                     Yes   \n",
              "\n",
              "  HasInternetService HasOnlineSecurityService      HasOnlineBackup  \\\n",
              "0                 No      No internet service  No internet service   \n",
              "1                 No      No internet service  No internet service   \n",
              "2        Fiber optic                       No                   No   \n",
              "3        Fiber optic                       No                   No   \n",
              "4        Fiber optic                      Yes                  Yes   \n",
              "\n",
              "   HasDeviceProtection HasTechSupportAccess          HasOnlineTV  \\\n",
              "0  No internet service  No internet service  No internet service   \n",
              "1  No internet service  No internet service  No internet service   \n",
              "2                   No                  Yes                   No   \n",
              "3                  Yes                   No                   No   \n",
              "4                  Yes                  Yes                  Yes   \n",
              "\n",
              "  HasMovieSubscription HasContractPhone IsBillingPaperless  \\\n",
              "0  No internet service         One year                 No   \n",
              "1  No internet service         Two year                 No   \n",
              "2                   No   Month-to-month                Yes   \n",
              "3                   No   Month-to-month                 No   \n",
              "4                  Yes         Two year                 No   \n",
              "\n",
              "             PaymentMethod  Churn  \n",
              "0             Mailed check      0  \n",
              "1  Credit card (automatic)      0  \n",
              "2         Electronic check      1  \n",
              "3             Mailed check      0  \n",
              "4  Credit card (automatic)      0  "
            ],
            "text/html": [
              "\n",
              "  <div id=\"df-d96bcdc2-c294-42cd-bb10-e7b4ff96c2e6\">\n",
              "    <div class=\"colab-df-container\">\n",
              "      <div>\n",
              "<style scoped>\n",
              "    .dataframe tbody tr th:only-of-type {\n",
              "        vertical-align: middle;\n",
              "    }\n",
              "\n",
              "    .dataframe tbody tr th {\n",
              "        vertical-align: top;\n",
              "    }\n",
              "\n",
              "    .dataframe thead th {\n",
              "        text-align: right;\n",
              "    }\n",
              "</style>\n",
              "<table border=\"1\" class=\"dataframe\">\n",
              "  <thead>\n",
              "    <tr style=\"text-align: right;\">\n",
              "      <th></th>\n",
              "      <th>ClientPeriod</th>\n",
              "      <th>MonthlySpending</th>\n",
              "      <th>TotalSpent</th>\n",
              "      <th>Sex</th>\n",
              "      <th>IsSeniorCitizen</th>\n",
              "      <th>HasPartner</th>\n",
              "      <th>HasChild</th>\n",
              "      <th>HasPhoneService</th>\n",
              "      <th>HasMultiplePhoneNumbers</th>\n",
              "      <th>HasInternetService</th>\n",
              "      <th>HasOnlineSecurityService</th>\n",
              "      <th>HasOnlineBackup</th>\n",
              "      <th>HasDeviceProtection</th>\n",
              "      <th>HasTechSupportAccess</th>\n",
              "      <th>HasOnlineTV</th>\n",
              "      <th>HasMovieSubscription</th>\n",
              "      <th>HasContractPhone</th>\n",
              "      <th>IsBillingPaperless</th>\n",
              "      <th>PaymentMethod</th>\n",
              "      <th>Churn</th>\n",
              "    </tr>\n",
              "  </thead>\n",
              "  <tbody>\n",
              "    <tr>\n",
              "      <th>0</th>\n",
              "      <td>55</td>\n",
              "      <td>19.50</td>\n",
              "      <td>1026.35</td>\n",
              "      <td>Male</td>\n",
              "      <td>0</td>\n",
              "      <td>Yes</td>\n",
              "      <td>Yes</td>\n",
              "      <td>Yes</td>\n",
              "      <td>No</td>\n",
              "      <td>No</td>\n",
              "      <td>No internet service</td>\n",
              "      <td>No internet service</td>\n",
              "      <td>No internet service</td>\n",
              "      <td>No internet service</td>\n",
              "      <td>No internet service</td>\n",
              "      <td>No internet service</td>\n",
              "      <td>One year</td>\n",
              "      <td>No</td>\n",
              "      <td>Mailed check</td>\n",
              "      <td>0</td>\n",
              "    </tr>\n",
              "    <tr>\n",
              "      <th>1</th>\n",
              "      <td>72</td>\n",
              "      <td>25.85</td>\n",
              "      <td>1872.2</td>\n",
              "      <td>Male</td>\n",
              "      <td>0</td>\n",
              "      <td>Yes</td>\n",
              "      <td>No</td>\n",
              "      <td>Yes</td>\n",
              "      <td>Yes</td>\n",
              "      <td>No</td>\n",
              "      <td>No internet service</td>\n",
              "      <td>No internet service</td>\n",
              "      <td>No internet service</td>\n",
              "      <td>No internet service</td>\n",
              "      <td>No internet service</td>\n",
              "      <td>No internet service</td>\n",
              "      <td>Two year</td>\n",
              "      <td>No</td>\n",
              "      <td>Credit card (automatic)</td>\n",
              "      <td>0</td>\n",
              "    </tr>\n",
              "    <tr>\n",
              "      <th>2</th>\n",
              "      <td>1</td>\n",
              "      <td>75.90</td>\n",
              "      <td>75.9</td>\n",
              "      <td>Male</td>\n",
              "      <td>0</td>\n",
              "      <td>No</td>\n",
              "      <td>No</td>\n",
              "      <td>Yes</td>\n",
              "      <td>No</td>\n",
              "      <td>Fiber optic</td>\n",
              "      <td>No</td>\n",
              "      <td>No</td>\n",
              "      <td>No</td>\n",
              "      <td>Yes</td>\n",
              "      <td>No</td>\n",
              "      <td>No</td>\n",
              "      <td>Month-to-month</td>\n",
              "      <td>Yes</td>\n",
              "      <td>Electronic check</td>\n",
              "      <td>1</td>\n",
              "    </tr>\n",
              "    <tr>\n",
              "      <th>3</th>\n",
              "      <td>32</td>\n",
              "      <td>79.30</td>\n",
              "      <td>2570</td>\n",
              "      <td>Female</td>\n",
              "      <td>1</td>\n",
              "      <td>Yes</td>\n",
              "      <td>No</td>\n",
              "      <td>Yes</td>\n",
              "      <td>Yes</td>\n",
              "      <td>Fiber optic</td>\n",
              "      <td>No</td>\n",
              "      <td>No</td>\n",
              "      <td>Yes</td>\n",
              "      <td>No</td>\n",
              "      <td>No</td>\n",
              "      <td>No</td>\n",
              "      <td>Month-to-month</td>\n",
              "      <td>No</td>\n",
              "      <td>Mailed check</td>\n",
              "      <td>0</td>\n",
              "    </tr>\n",
              "    <tr>\n",
              "      <th>4</th>\n",
              "      <td>60</td>\n",
              "      <td>115.25</td>\n",
              "      <td>6758.45</td>\n",
              "      <td>Female</td>\n",
              "      <td>0</td>\n",
              "      <td>Yes</td>\n",
              "      <td>Yes</td>\n",
              "      <td>Yes</td>\n",
              "      <td>Yes</td>\n",
              "      <td>Fiber optic</td>\n",
              "      <td>Yes</td>\n",
              "      <td>Yes</td>\n",
              "      <td>Yes</td>\n",
              "      <td>Yes</td>\n",
              "      <td>Yes</td>\n",
              "      <td>Yes</td>\n",
              "      <td>Two year</td>\n",
              "      <td>No</td>\n",
              "      <td>Credit card (automatic)</td>\n",
              "      <td>0</td>\n",
              "    </tr>\n",
              "  </tbody>\n",
              "</table>\n",
              "</div>\n",
              "      <button class=\"colab-df-convert\" onclick=\"convertToInteractive('df-d96bcdc2-c294-42cd-bb10-e7b4ff96c2e6')\"\n",
              "              title=\"Convert this dataframe to an interactive table.\"\n",
              "              style=\"display:none;\">\n",
              "        \n",
              "  <svg xmlns=\"http://www.w3.org/2000/svg\" height=\"24px\"viewBox=\"0 0 24 24\"\n",
              "       width=\"24px\">\n",
              "    <path d=\"M0 0h24v24H0V0z\" fill=\"none\"/>\n",
              "    <path d=\"M18.56 5.44l.94 2.06.94-2.06 2.06-.94-2.06-.94-.94-2.06-.94 2.06-2.06.94zm-11 1L8.5 8.5l.94-2.06 2.06-.94-2.06-.94L8.5 2.5l-.94 2.06-2.06.94zm10 10l.94 2.06.94-2.06 2.06-.94-2.06-.94-.94-2.06-.94 2.06-2.06.94z\"/><path d=\"M17.41 7.96l-1.37-1.37c-.4-.4-.92-.59-1.43-.59-.52 0-1.04.2-1.43.59L10.3 9.45l-7.72 7.72c-.78.78-.78 2.05 0 2.83L4 21.41c.39.39.9.59 1.41.59.51 0 1.02-.2 1.41-.59l7.78-7.78 2.81-2.81c.8-.78.8-2.07 0-2.86zM5.41 20L4 18.59l7.72-7.72 1.47 1.35L5.41 20z\"/>\n",
              "  </svg>\n",
              "      </button>\n",
              "      \n",
              "  <style>\n",
              "    .colab-df-container {\n",
              "      display:flex;\n",
              "      flex-wrap:wrap;\n",
              "      gap: 12px;\n",
              "    }\n",
              "\n",
              "    .colab-df-convert {\n",
              "      background-color: #E8F0FE;\n",
              "      border: none;\n",
              "      border-radius: 50%;\n",
              "      cursor: pointer;\n",
              "      display: none;\n",
              "      fill: #1967D2;\n",
              "      height: 32px;\n",
              "      padding: 0 0 0 0;\n",
              "      width: 32px;\n",
              "    }\n",
              "\n",
              "    .colab-df-convert:hover {\n",
              "      background-color: #E2EBFA;\n",
              "      box-shadow: 0px 1px 2px rgba(60, 64, 67, 0.3), 0px 1px 3px 1px rgba(60, 64, 67, 0.15);\n",
              "      fill: #174EA6;\n",
              "    }\n",
              "\n",
              "    [theme=dark] .colab-df-convert {\n",
              "      background-color: #3B4455;\n",
              "      fill: #D2E3FC;\n",
              "    }\n",
              "\n",
              "    [theme=dark] .colab-df-convert:hover {\n",
              "      background-color: #434B5C;\n",
              "      box-shadow: 0px 1px 3px 1px rgba(0, 0, 0, 0.15);\n",
              "      filter: drop-shadow(0px 1px 2px rgba(0, 0, 0, 0.3));\n",
              "      fill: #FFFFFF;\n",
              "    }\n",
              "  </style>\n",
              "\n",
              "      <script>\n",
              "        const buttonEl =\n",
              "          document.querySelector('#df-d96bcdc2-c294-42cd-bb10-e7b4ff96c2e6 button.colab-df-convert');\n",
              "        buttonEl.style.display =\n",
              "          google.colab.kernel.accessAllowed ? 'block' : 'none';\n",
              "\n",
              "        async function convertToInteractive(key) {\n",
              "          const element = document.querySelector('#df-d96bcdc2-c294-42cd-bb10-e7b4ff96c2e6');\n",
              "          const dataTable =\n",
              "            await google.colab.kernel.invokeFunction('convertToInteractive',\n",
              "                                                     [key], {});\n",
              "          if (!dataTable) return;\n",
              "\n",
              "          const docLinkHtml = 'Like what you see? Visit the ' +\n",
              "            '<a target=\"_blank\" href=https://colab.research.google.com/notebooks/data_table.ipynb>data table notebook</a>'\n",
              "            + ' to learn more about interactive tables.';\n",
              "          element.innerHTML = '';\n",
              "          dataTable['output_type'] = 'display_data';\n",
              "          await google.colab.output.renderOutput(dataTable, element);\n",
              "          const docLink = document.createElement('div');\n",
              "          docLink.innerHTML = docLinkHtml;\n",
              "          element.appendChild(docLink);\n",
              "        }\n",
              "      </script>\n",
              "    </div>\n",
              "  </div>\n",
              "  "
            ]
          },
          "metadata": {},
          "execution_count": 5
        }
      ]
    },
    {
      "cell_type": "code",
      "metadata": {
        "id": "KgnkkF5bEEY9"
      },
      "source": [
        "# Для вашего удобства списки с именами разных колонок\n",
        "\n",
        "# Числовые признаки\n",
        "num_cols = [\n",
        "    'ClientPeriod',\n",
        "    'MonthlySpending',\n",
        "    'TotalSpent'\n",
        "]\n",
        "\n",
        "# Категориальные признаки\n",
        "cat_cols = [\n",
        "    'Sex',\n",
        "    'IsSeniorCitizen',\n",
        "    'HasPartner',\n",
        "    'HasChild',\n",
        "    'HasPhoneService',\n",
        "    'HasMultiplePhoneNumbers',\n",
        "    'HasInternetService',\n",
        "    'HasOnlineSecurityService',\n",
        "    'HasOnlineBackup',\n",
        "    'HasDeviceProtection',\n",
        "    'HasTechSupportAccess',\n",
        "    'HasOnlineTV',\n",
        "    'HasMovieSubscription',\n",
        "    'HasContractPhone',\n",
        "    'IsBillingPaperless',\n",
        "    'PaymentMethod'\n",
        "]\n",
        "\n",
        "feature_cols = num_cols + cat_cols\n",
        "target_col = 'Churn'"
      ],
      "execution_count": null,
      "outputs": []
    },
    {
      "cell_type": "markdown",
      "source": [
        "Посмотрела что по nan-ам, информация по данным"
      ],
      "metadata": {
        "id": "Yny04Qu-wn6a"
      }
    },
    {
      "cell_type": "code",
      "metadata": {
        "id": "tHC6gWabEEZA",
        "outputId": "59423864-7a03-4fa4-8d90-6ba8f51b9908",
        "colab": {
          "base_uri": "https://localhost:8080/"
        }
      },
      "source": [
        "# YOUR CODE\n",
        "data.isna().sum()\n",
        "# data.info()"
      ],
      "execution_count": null,
      "outputs": [
        {
          "output_type": "execute_result",
          "data": {
            "text/plain": [
              "ClientPeriod                0\n",
              "MonthlySpending             0\n",
              "TotalSpent                  0\n",
              "Sex                         0\n",
              "IsSeniorCitizen             0\n",
              "HasPartner                  0\n",
              "HasChild                    0\n",
              "HasPhoneService             0\n",
              "HasMultiplePhoneNumbers     0\n",
              "HasInternetService          0\n",
              "HasOnlineSecurityService    0\n",
              "HasOnlineBackup             0\n",
              "HasDeviceProtection         0\n",
              "HasTechSupportAccess        0\n",
              "HasOnlineTV                 0\n",
              "HasMovieSubscription        0\n",
              "HasContractPhone            0\n",
              "IsBillingPaperless          0\n",
              "PaymentMethod               0\n",
              "Churn                       0\n",
              "dtype: int64"
            ]
          },
          "metadata": {},
          "execution_count": 7
        }
      ]
    },
    {
      "cell_type": "markdown",
      "source": [
        "столбец \"TotalSpent\" был в типе object, перевела в float, как и подразумевалось"
      ],
      "metadata": {
        "id": "mmNWxD0twqne"
      }
    },
    {
      "cell_type": "code",
      "source": [
        "data[\"TotalSpent\"] = pd.to_numeric(data[\"TotalSpent\"], errors='coerce').astype(float)"
      ],
      "metadata": {
        "id": "395xQiTs5KwX"
      },
      "execution_count": null,
      "outputs": []
    },
    {
      "cell_type": "markdown",
      "source": [
        "Делим выборку на target и обучающие фичи"
      ],
      "metadata": {
        "id": "iuek4M0Uw5hg"
      }
    },
    {
      "cell_type": "code",
      "source": [
        "X = data.drop(target_col, axis=1)\n",
        "y = data[target_col]"
      ],
      "metadata": {
        "id": "8RilGlKKiqnU"
      },
      "execution_count": null,
      "outputs": []
    },
    {
      "cell_type": "markdown",
      "source": [
        "Смотрю, что по выбросам и по масштабу данных. Обнаруживаю, что столбец Total Spent на несколько порядков больше. Поэтому надо нормализовать. Файл сохранился с прогоном после нормализации, поэтому графики нормальные"
      ],
      "metadata": {
        "id": "hV_C2Ja0xV4J"
      }
    },
    {
      "cell_type": "code",
      "metadata": {
        "id": "NZkbgFJZEEZE",
        "outputId": "d97f0bf9-0545-4bef-d239-3d2e1876952f",
        "colab": {
          "base_uri": "https://localhost:8080/",
          "height": 265
        }
      },
      "source": [
        "# YOUR CODE\n",
        "import matplotlib.pyplot as plt\n",
        "\n",
        "X.boxplot(column=num_cols)\n",
        "\n",
        "plt.show()\n"
      ],
      "execution_count": null,
      "outputs": [
        {
          "output_type": "display_data",
          "data": {
            "text/plain": [
              "<Figure size 432x288 with 1 Axes>"
            ],
            "image/png": "[encoded data removed]"
          },
          "metadata": {
            "needs_background": "light"
          }
        }
      ]
    },
    {
      "cell_type": "code",
      "source": [
        "# YOUR CODE\n",
        "X[num_cols].hist()\n",
        "\n",
        "plt.show()"
      ],
      "metadata": {
        "id": "jsga9l_t4kXU",
        "outputId": "1f783ac5-bac9-4299-f4c4-a3b15ca7e114",
        "colab": {
          "base_uri": "https://localhost:8080/",
          "height": 281
        }
      },
      "execution_count": null,
      "outputs": [
        {
          "output_type": "display_data",
          "data": {
            "text/plain": [
              "<Figure size 432x288 with 4 Axes>"
            ],
            "image/png": "[encoded data removed]"
          },
          "metadata": {
            "needs_background": "light"
          }
        }
      ]
    },
    {
      "cell_type": "markdown",
      "source": [
        "Первый способ нормализации: (сработал плохо, слишком сильно уменьшает порядок, все равно не сбалансированы порядки)"
      ],
      "metadata": {
        "id": "tLy2OLmyxjjb"
      }
    },
    {
      "cell_type": "code",
      "source": [
        "X['TotalSpent'] = X['TotalSpent'].apply(lambda x: (x - X['TotalSpent'].mean()) / X['TotalSpent'].std())"
      ],
      "metadata": {
        "id": "xWKWBmNAZRdw"
      },
      "execution_count": null,
      "outputs": []
    },
    {
      "cell_type": "markdown",
      "source": [
        "тут посмотрели сбалансированность"
      ],
      "metadata": {
        "id": "GZpw1xQcxyVI"
      }
    },
    {
      "cell_type": "code",
      "metadata": {
        "id": "fwfksF1gEEZI",
        "outputId": "1947615f-873d-40ec-9123-7995066c4b18",
        "colab": {
          "base_uri": "https://localhost:8080/",
          "height": 166
        }
      },
      "source": [
        "fig, axs = plt.subplots(nrows=1, ncols=len(cat_cols), figsize=(10,5))\n",
        "for i, col in enumerate(cat_cols):\n",
        "  value_counts = X[col].value_counts()\n",
        "  value_counts.plot.pie(ax=axs[i], rot=0)\n",
        "  axs[i].set_title(col)\n",
        "plt.show()"
      ],
      "execution_count": null,
      "outputs": [
        {
          "output_type": "display_data",
          "data": {
            "text/plain": [
              "<Figure size 720x360 with 16 Axes>"
            ],
            "image/png": "[encoded data removed]"
          },
          "metadata": {}
        }
      ]
    },
    {
      "cell_type": "markdown",
      "source": [
        "а тут сбалансированность тагретовой переменной"
      ],
      "metadata": {
        "id": "GyFyt_n9x41A"
      }
    },
    {
      "cell_type": "code",
      "source": [
        "y.value_counts()"
      ],
      "metadata": {
        "id": "FyoJwdCQToDl",
        "outputId": "0187bf11-5718-4f9b-eed6-73f34683d4b9",
        "colab": {
          "base_uri": "https://localhost:8080/"
        }
      },
      "execution_count": null,
      "outputs": [
        {
          "output_type": "execute_result",
          "data": {
            "text/plain": [
              "0    3898\n",
              "1    1384\n",
              "Name: Churn, dtype: int64"
            ]
          },
          "metadata": {},
          "execution_count": 12
        }
      ]
    },
    {
      "cell_type": "code",
      "metadata": {
        "id": "xHCLDmwqEEZL"
      },
      "source": [
        "from sklearn.linear_model import LogisticRegression, LogisticRegressionCV\n",
        "from sklearn.model_selection import train_test_split, GridSearchCV\n",
        "from sklearn.preprocessing import StandardScaler, RobustScaler, LabelEncoder, OneHotEncoder\n",
        "from sklearn.pipeline import make_pipeline"
      ],
      "execution_count": null,
      "outputs": []
    },
    {
      "cell_type": "markdown",
      "source": [
        "Тут нормализация с библиотекой, поэтому это уже \"по-нормальному\", а также onehotEncoding"
      ],
      "metadata": {
        "id": "8sdORPWQyxq8"
      }
    },
    {
      "cell_type": "code",
      "source": [
        "from sklearn.preprocessing import OneHotEncoder, MinMaxScaler\n",
        "encoder = OneHotEncoder()\n",
        "scaler = MinMaxScaler()\n",
        "X[num_cols] = scaler.fit_transform(X[num_cols])\n",
        "X_encoded = pd.DataFrame(encoder.fit_transform(X[cat_cols]).toarray(),\n",
        "                         columns=encoder.get_feature_names_out(cat_cols))\n",
        "\n",
        "# Объединить закодированные признаки с числовыми\n",
        "X = pd.concat([X.drop(cat_cols, axis=1), X_encoded], axis=1)"
      ],
      "metadata": {
        "id": "I5J6jd_ngK2q"
      },
      "execution_count": null,
      "outputs": []
    },
    {
      "cell_type": "markdown",
      "source": [
        "После манипуляций, образовались nan-ы, долой их"
      ],
      "metadata": {
        "id": "s8Hf7Bi6y4cB"
      }
    },
    {
      "cell_type": "code",
      "source": [
        "X = X.dropna()\n",
        "y = y[X.index]"
      ],
      "metadata": {
        "id": "WvQ3i8vLhm0F"
      },
      "execution_count": null,
      "outputs": []
    },
    {
      "cell_type": "code",
      "source": [
        "X.isna().sum()"
      ],
      "metadata": {
        "id": "E5uy3yrojw-r",
        "outputId": "eb52a8c4-d8c0-431d-df8a-1fedf1c396f9",
        "colab": {
          "base_uri": "https://localhost:8080/"
        }
      },
      "execution_count": null,
      "outputs": [
        {
          "output_type": "execute_result",
          "data": {
            "text/plain": [
              "ClientPeriod                                    0\n",
              "MonthlySpending                                 0\n",
              "TotalSpent                                      0\n",
              "Sex_Female                                      0\n",
              "Sex_Male                                        0\n",
              "IsSeniorCitizen_0                               0\n",
              "IsSeniorCitizen_1                               0\n",
              "HasPartner_No                                   0\n",
              "HasPartner_Yes                                  0\n",
              "HasChild_No                                     0\n",
              "HasChild_Yes                                    0\n",
              "HasPhoneService_No                              0\n",
              "HasPhoneService_Yes                             0\n",
              "HasMultiplePhoneNumbers_No                      0\n",
              "HasMultiplePhoneNumbers_No phone service        0\n",
              "HasMultiplePhoneNumbers_Yes                     0\n",
              "HasInternetService_DSL                          0\n",
              "HasInternetService_Fiber optic                  0\n",
              "HasInternetService_No                           0\n",
              "HasOnlineSecurityService_No                     0\n",
              "HasOnlineSecurityService_No internet service    0\n",
              "HasOnlineSecurityService_Yes                    0\n",
              "HasOnlineBackup_No                              0\n",
              "HasOnlineBackup_No internet service             0\n",
              "HasOnlineBackup_Yes                             0\n",
              "HasDeviceProtection_No                          0\n",
              "HasDeviceProtection_No internet service         0\n",
              "HasDeviceProtection_Yes                         0\n",
              "HasTechSupportAccess_No                         0\n",
              "HasTechSupportAccess_No internet service        0\n",
              "HasTechSupportAccess_Yes                        0\n",
              "HasOnlineTV_No                                  0\n",
              "HasOnlineTV_No internet service                 0\n",
              "HasOnlineTV_Yes                                 0\n",
              "HasMovieSubscription_No                         0\n",
              "HasMovieSubscription_No internet service        0\n",
              "HasMovieSubscription_Yes                        0\n",
              "HasContractPhone_Month-to-month                 0\n",
              "HasContractPhone_One year                       0\n",
              "HasContractPhone_Two year                       0\n",
              "IsBillingPaperless_No                           0\n",
              "IsBillingPaperless_Yes                          0\n",
              "PaymentMethod_Bank transfer (automatic)         0\n",
              "PaymentMethod_Credit card (automatic)           0\n",
              "PaymentMethod_Electronic check                  0\n",
              "PaymentMethod_Mailed check                      0\n",
              "dtype: int64"
            ]
          },
          "metadata": {},
          "execution_count": 19
        }
      ]
    },
    {
      "cell_type": "markdown",
      "source": [
        "было принято стратегическое решение выбрать вариант легче и сравнить метрику \"тупо в лоб\", выбрали лучший вариант, обучили лог регрессию\n"
      ],
      "metadata": {
        "id": "pp8VHdGKzBB3"
      }
    },
    {
      "cell_type": "code",
      "source": [
        "from sklearn.model_selection import train_test_split\n",
        "from sklearn.linear_model import LogisticRegression\n",
        "from sklearn.metrics import roc_auc_score\n",
        "\n",
        "# Разделить данные на train/valid выборки\n",
        "X_train, X_valid, y_train, y_valid = train_test_split(X, y, test_size=0.2, random_state=42)\n",
        "\n",
        "# Создать список значений гиперпараметра C\n",
        "C_values = [100, 10, 1, 0.1, 0.01, 0.001]\n",
        "\n",
        "# Протестировать разные значения C\n",
        "best_C = None\n",
        "best_score = 0\n",
        "\n",
        "for C in C_values:\n",
        "    # Создать и обучить модель\n",
        "    clf = LogisticRegression(C=C, max_iter=1000)\n",
        "    clf.fit(X_train, y_train)\n",
        "\n",
        "    # Получить предсказания для валидационной выборки\n",
        "    y_pred = clf.predict_proba(X_valid)[:, 1]\n",
        "\n",
        "    # Вычислить метрику ROC-AUC\n",
        "    score = roc_auc_score(y_valid, y_pred)\n",
        "\n",
        "    # Сохранить лучшее значение гиперпараметра и метрику\n",
        "    if score > best_score:\n",
        "        best_score = score\n",
        "        best_C = C\n",
        "\n",
        "# Обучить модель на всех данных с лучшим параметром C\n",
        "clf = LogisticRegression(C=best_C, max_iter=1000)\n",
        "clf.fit(X, y)\n"
      ],
      "metadata": {
        "id": "uT9imeygesqA",
        "outputId": "861bb978-e8d1-4c2d-f726-663195a2155e",
        "colab": {
          "base_uri": "https://localhost:8080/",
          "height": 75
        }
      },
      "execution_count": null,
      "outputs": [
        {
          "output_type": "execute_result",
          "data": {
            "text/plain": [
              "LogisticRegression(C=10, max_iter=1000)"
            ],
            "text/html": [
              "<style>#sk-container-id-2 {color: black;background-color: white;}#sk-container-id-2 pre{padding: 0;}#sk-container-id-2 div.sk-toggleable {background-color: white;}#sk-container-id-2 label.sk-toggleable__label {cursor: pointer;display: block;width: 100%;margin-bottom: 0;padding: 0.3em;box-sizing: border-box;text-align: center;}#sk-container-id-2 label.sk-toggleable__label-arrow:before {content: \"▸\";float: left;margin-right: 0.25em;color: #696969;}#sk-container-id-2 label.sk-toggleable__label-arrow:hover:before {color: black;}#sk-container-id-2 div.sk-estimator:hover label.sk-toggleable__label-arrow:before {color: black;}#sk-container-id-2 div.sk-toggleable__content {max-height: 0;max-width: 0;overflow: hidden;text-align: left;background-color: #f0f8ff;}#sk-container-id-2 div.sk-toggleable__content pre {margin: 0.2em;color: black;border-radius: 0.25em;background-color: #f0f8ff;}#sk-container-id-2 input.sk-toggleable__control:checked~div.sk-toggleable__content {max-height: 200px;max-width: 100%;overflow: auto;}#sk-container-id-2 input.sk-toggleable__control:checked~label.sk-toggleable__label-arrow:before {content: \"▾\";}#sk-container-id-2 div.sk-estimator input.sk-toggleable__control:checked~label.sk-toggleable__label {background-color: #d4ebff;}#sk-container-id-2 div.sk-label input.sk-toggleable__control:checked~label.sk-toggleable__label {background-color: #d4ebff;}#sk-container-id-2 input.sk-hidden--visually {border: 0;clip: rect(1px 1px 1px 1px);clip: rect(1px, 1px, 1px, 1px);height: 1px;margin: -1px;overflow: hidden;padding: 0;position: absolute;width: 1px;}#sk-container-id-2 div.sk-estimator {font-family: monospace;background-color: #f0f8ff;border: 1px dotted black;border-radius: 0.25em;box-sizing: border-box;margin-bottom: 0.5em;}#sk-container-id-2 div.sk-estimator:hover {background-color: #d4ebff;}#sk-container-id-2 div.sk-parallel-item::after {content: \"\";width: 100%;border-bottom: 1px solid gray;flex-grow: 1;}#sk-container-id-2 div.sk-label:hover label.sk-toggleable__label {background-color: #d4ebff;}#sk-container-id-2 div.sk-serial::before {content: \"\";position: absolute;border-left: 1px solid gray;box-sizing: border-box;top: 0;bottom: 0;left: 50%;z-index: 0;}#sk-container-id-2 div.sk-serial {display: flex;flex-direction: column;align-items: center;background-color: white;padding-right: 0.2em;padding-left: 0.2em;position: relative;}#sk-container-id-2 div.sk-item {position: relative;z-index: 1;}#sk-container-id-2 div.sk-parallel {display: flex;align-items: stretch;justify-content: center;background-color: white;position: relative;}#sk-container-id-2 div.sk-item::before, #sk-container-id-2 div.sk-parallel-item::before {content: \"\";position: absolute;border-left: 1px solid gray;box-sizing: border-box;top: 0;bottom: 0;left: 50%;z-index: -1;}#sk-container-id-2 div.sk-parallel-item {display: flex;flex-direction: column;z-index: 1;position: relative;background-color: white;}#sk-container-id-2 div.sk-parallel-item:first-child::after {align-self: flex-end;width: 50%;}#sk-container-id-2 div.sk-parallel-item:last-child::after {align-self: flex-start;width: 50%;}#sk-container-id-2 div.sk-parallel-item:only-child::after {width: 0;}#sk-container-id-2 div.sk-dashed-wrapped {border: 1px dashed gray;margin: 0 0.4em 0.5em 0.4em;box-sizing: border-box;padding-bottom: 0.4em;background-color: white;}#sk-container-id-2 div.sk-label label {font-family: monospace;font-weight: bold;display: inline-block;line-height: 1.2em;}#sk-container-id-2 div.sk-label-container {text-align: center;}#sk-container-id-2 div.sk-container {/* jupyter's `normalize.less` sets `[hidden] { display: none; }` but bootstrap.min.css set `[hidden] { display: none !important; }` so we also need the `!important` here to be able to override the default hidden behavior on the sphinx rendered scikit-learn.org. See: https://github.com/scikit-learn/scikit-learn/issues/21755 */display: inline-block !important;position: relative;}#sk-container-id-2 div.sk-text-repr-fallback {display: none;}</style><div id=\"sk-container-id-2\" class=\"sk-top-container\"><div class=\"sk-text-repr-fallback\"><pre>LogisticRegression(C=10, max_iter=1000)</pre><b>In a Jupyter environment, please rerun this cell to show the HTML representation or trust the notebook. <br />On GitHub, the HTML representation is unable to render, please try loading this page with nbviewer.org.</b></div><div class=\"sk-container\" hidden><div class=\"sk-item\"><div class=\"sk-estimator sk-toggleable\"><input class=\"sk-toggleable__control sk-hidden--visually\" id=\"sk-estimator-id-2\" type=\"checkbox\" checked><label for=\"sk-estimator-id-2\" class=\"sk-toggleable__label sk-toggleable__label-arrow\">LogisticRegression</label><div class=\"sk-toggleable__content\"><pre>LogisticRegression(C=10, max_iter=1000)</pre></div></div></div></div></div>"
            ]
          },
          "metadata": {},
          "execution_count": 57
        }
      ]
    },
    {
      "cell_type": "code",
      "source": [
        "best_score"
      ],
      "metadata": {
        "id": "gC1LFR1GkBvY",
        "outputId": "40e898d9-d395-4b08-e352-87599b8c9380",
        "colab": {
          "base_uri": "https://localhost:8080/"
        }
      },
      "execution_count": null,
      "outputs": [
        {
          "output_type": "execute_result",
          "data": {
            "text/plain": [
              "0.844265156876622"
            ]
          },
          "metadata": {},
          "execution_count": 58
        }
      ]
    },
    {
      "cell_type": "code",
      "source": [
        "!pip install catboost"
      ],
      "metadata": {
        "id": "oVg4kfnMlpDT",
        "outputId": "23d9e2be-3f5d-461c-9ad3-e9a736af0946",
        "colab": {
          "base_uri": "https://localhost:8080/"
        }
      },
      "execution_count": null,
      "outputs": [
        {
          "output_type": "stream",
          "name": "stdout",
          "text": [
            "Looking in indexes: https://pypi.org/simple, https://us-python.pkg.dev/colab-wheels/public/simple/\n",
            "Collecting catboost\n",
            "  Downloading catboost-1.1.1-cp39-none-manylinux1_x86_64.whl (76.6 MB)\n",
            "\u001b[2K     \u001b[90m━━━━━━━━━━━━━━━━━━━━━━━━━━━━━━━━━━━━━━━━\u001b[0m \u001b[32m76.6/76.6 MB\u001b[0m \u001b[31m10.1 MB/s\u001b[0m eta \u001b[36m0:00:00\u001b[0m\n",
            "\u001b[?25hRequirement already satisfied: scipy in /usr/local/lib/python3.9/dist-packages (from catboost) (1.10.1)\n",
            "Requirement already satisfied: six in /usr/local/lib/python3.9/dist-packages (from catboost) (1.15.0)\n",
            "Requirement already satisfied: matplotlib in /usr/local/lib/python3.9/dist-packages (from catboost) (3.5.3)\n",
            "Requirement already satisfied: plotly in /usr/local/lib/python3.9/dist-packages (from catboost) (5.5.0)\n",
            "Requirement already satisfied: graphviz in /usr/local/lib/python3.9/dist-packages (from catboost) (0.10.1)\n",
            "Requirement already satisfied: pandas>=0.24.0 in /usr/local/lib/python3.9/dist-packages (from catboost) (1.3.5)\n",
            "Requirement already satisfied: numpy>=1.16.0 in /usr/local/lib/python3.9/dist-packages (from catboost) (1.22.4)\n",
            "Requirement already satisfied: pytz>=2017.3 in /usr/local/lib/python3.9/dist-packages (from pandas>=0.24.0->catboost) (2022.7.1)\n",
            "Requirement already satisfied: python-dateutil>=2.7.3 in /usr/local/lib/python3.9/dist-packages (from pandas>=0.24.0->catboost) (2.8.2)\n",
            "Requirement already satisfied: pillow>=6.2.0 in /usr/local/lib/python3.9/dist-packages (from matplotlib->catboost) (8.4.0)\n",
            "Requirement already satisfied: cycler>=0.10 in /usr/local/lib/python3.9/dist-packages (from matplotlib->catboost) (0.11.0)\n",
            "Requirement already satisfied: fonttools>=4.22.0 in /usr/local/lib/python3.9/dist-packages (from matplotlib->catboost) (4.39.0)\n",
            "Requirement already satisfied: packaging>=20.0 in /usr/local/lib/python3.9/dist-packages (from matplotlib->catboost) (23.0)\n",
            "Requirement already satisfied: pyparsing>=2.2.1 in /usr/local/lib/python3.9/dist-packages (from matplotlib->catboost) (3.0.9)\n",
            "Requirement already satisfied: kiwisolver>=1.0.1 in /usr/local/lib/python3.9/dist-packages (from matplotlib->catboost) (1.4.4)\n",
            "Requirement already satisfied: tenacity>=6.2.0 in /usr/local/lib/python3.9/dist-packages (from plotly->catboost) (8.2.2)\n",
            "Installing collected packages: catboost\n",
            "Successfully installed catboost-1.1.1\n"
          ]
        }
      ]
    },
    {
      "cell_type": "markdown",
      "source": [
        "тут catboost, (прирост не существенный, но есть)"
      ],
      "metadata": {
        "id": "M3lyCl23zWpG"
      }
    },
    {
      "cell_type": "code",
      "metadata": {
        "id": "Fioxxlp-EEZS",
        "outputId": "179e5cd0-0f15-4420-e1eb-bb6ebeb3c7be",
        "colab": {
          "base_uri": "https://localhost:8080/"
        }
      },
      "source": [
        "# YOUR CODE\n",
        "import pandas as pd\n",
        "from sklearn.model_selection import train_test_split, GridSearchCV\n",
        "from catboost import CatBoostClassifier\n",
        "\n",
        "\n",
        "# Отделить признаки от целевой переменной\n",
        "X = data.drop(target_col, axis=1)\n",
        "y = data[target_col]\n",
        "\n",
        "# Разделить данные на train/valid\n",
        "X_train, X_valid, y_train, y_valid = train_test_split(X, y, test_size=0.2, random_state=42)\n",
        "\n",
        "# Создать экземпляр класса CatBoostClassifier\n",
        "clf = CatBoostClassifier(cat_features=cat_cols)\n",
        "\n",
        "# Задать значения параметров для поиска лучших комбинаций\n",
        "param_grid = {\n",
        "    'n_estimators': [100, 500, 1000],\n",
        "    'learning_rate': [0.01, 0.1, 0.5]\n",
        "}\n",
        "\n",
        "# Использовать GridSearchCV для поиска лучших комбинаций параметров\n",
        "grid_search = GridSearchCV(clf, param_grid=param_grid, cv=5, scoring='roc_auc', n_jobs=-1)\n",
        "grid_search.fit(X_train, y_train, cat_features=cat_cols)\n",
        "\n",
        "# Вывести лучшие параметры и метрики качества на валидационной выборке\n",
        "print('Best parameters:', grid_search.best_params_)\n",
        "print('Best ROC-AUC score:', grid_search.best_score_)\n",
        "print('Validation ROC-AUC score:', grid_search.best_estimator_.score(X_valid, y_valid))\n"
      ],
      "execution_count": null,
      "outputs": [
        {
          "output_type": "stream",
          "name": "stdout",
          "text": [
            "0:\tlearn: 0.6568616\ttotal: 52.9ms\tremaining: 5.24s\n",
            "1:\tlearn: 0.6257554\ttotal: 56.7ms\tremaining: 2.78s\n",
            "2:\tlearn: 0.5988467\ttotal: 59.8ms\tremaining: 1.93s\n",
            "3:\tlearn: 0.5763852\ttotal: 63ms\tremaining: 1.51s\n",
            "4:\tlearn: 0.5588328\ttotal: 66.1ms\tremaining: 1.26s\n",
            "5:\tlearn: 0.5427589\ttotal: 69.9ms\tremaining: 1.09s\n",
            "6:\tlearn: 0.5276966\ttotal: 73.1ms\tremaining: 971ms\n",
            "7:\tlearn: 0.5152492\ttotal: 76.3ms\tremaining: 877ms\n",
            "8:\tlearn: 0.5045771\ttotal: 79.7ms\tremaining: 806ms\n",
            "9:\tlearn: 0.4950294\ttotal: 83ms\tremaining: 747ms\n",
            "10:\tlearn: 0.4858723\ttotal: 84.8ms\tremaining: 686ms\n",
            "11:\tlearn: 0.4774517\ttotal: 86.5ms\tremaining: 634ms\n",
            "12:\tlearn: 0.4707478\ttotal: 87.8ms\tremaining: 588ms\n",
            "13:\tlearn: 0.4641716\ttotal: 91.9ms\tremaining: 565ms\n",
            "14:\tlearn: 0.4590523\ttotal: 93.9ms\tremaining: 532ms\n",
            "15:\tlearn: 0.4528122\ttotal: 97.5ms\tremaining: 512ms\n",
            "16:\tlearn: 0.4471808\ttotal: 101ms\tremaining: 492ms\n",
            "17:\tlearn: 0.4424357\ttotal: 103ms\tremaining: 471ms\n",
            "18:\tlearn: 0.4383912\ttotal: 107ms\tremaining: 456ms\n",
            "19:\tlearn: 0.4344450\ttotal: 109ms\tremaining: 438ms\n",
            "20:\tlearn: 0.4306985\ttotal: 113ms\tremaining: 424ms\n",
            "21:\tlearn: 0.4276146\ttotal: 116ms\tremaining: 411ms\n",
            "22:\tlearn: 0.4245941\ttotal: 119ms\tremaining: 399ms\n",
            "23:\tlearn: 0.4224470\ttotal: 122ms\tremaining: 387ms\n",
            "24:\tlearn: 0.4198529\ttotal: 125ms\tremaining: 376ms\n",
            "25:\tlearn: 0.4175541\ttotal: 129ms\tremaining: 367ms\n",
            "26:\tlearn: 0.4155935\ttotal: 132ms\tremaining: 358ms\n",
            "27:\tlearn: 0.4137462\ttotal: 136ms\tremaining: 349ms\n",
            "28:\tlearn: 0.4121288\ttotal: 139ms\tremaining: 340ms\n",
            "29:\tlearn: 0.4104275\ttotal: 142ms\tremaining: 331ms\n",
            "30:\tlearn: 0.4093439\ttotal: 144ms\tremaining: 320ms\n",
            "31:\tlearn: 0.4081437\ttotal: 146ms\tremaining: 310ms\n",
            "32:\tlearn: 0.4065023\ttotal: 149ms\tremaining: 302ms\n",
            "33:\tlearn: 0.4051917\ttotal: 152ms\tremaining: 295ms\n",
            "34:\tlearn: 0.4036604\ttotal: 155ms\tremaining: 288ms\n",
            "35:\tlearn: 0.4026408\ttotal: 159ms\tremaining: 282ms\n",
            "36:\tlearn: 0.4018471\ttotal: 162ms\tremaining: 275ms\n",
            "37:\tlearn: 0.4012011\ttotal: 165ms\tremaining: 269ms\n",
            "38:\tlearn: 0.4002579\ttotal: 168ms\tremaining: 263ms\n",
            "39:\tlearn: 0.3990442\ttotal: 171ms\tremaining: 257ms\n",
            "40:\tlearn: 0.3980552\ttotal: 174ms\tremaining: 251ms\n",
            "41:\tlearn: 0.3972582\ttotal: 178ms\tremaining: 245ms\n",
            "42:\tlearn: 0.3968079\ttotal: 181ms\tremaining: 240ms\n",
            "43:\tlearn: 0.3962750\ttotal: 184ms\tremaining: 234ms\n",
            "44:\tlearn: 0.3956544\ttotal: 186ms\tremaining: 227ms\n",
            "45:\tlearn: 0.3951355\ttotal: 189ms\tremaining: 222ms\n",
            "46:\tlearn: 0.3947509\ttotal: 191ms\tremaining: 215ms\n",
            "47:\tlearn: 0.3941569\ttotal: 194ms\tremaining: 211ms\n",
            "48:\tlearn: 0.3938395\ttotal: 198ms\tremaining: 206ms\n",
            "49:\tlearn: 0.3931360\ttotal: 201ms\tremaining: 201ms\n",
            "50:\tlearn: 0.3923900\ttotal: 204ms\tremaining: 196ms\n",
            "51:\tlearn: 0.3916124\ttotal: 207ms\tremaining: 191ms\n",
            "52:\tlearn: 0.3915539\ttotal: 209ms\tremaining: 185ms\n",
            "53:\tlearn: 0.3915484\ttotal: 211ms\tremaining: 179ms\n",
            "54:\tlearn: 0.3911700\ttotal: 214ms\tremaining: 175ms\n",
            "55:\tlearn: 0.3909848\ttotal: 215ms\tremaining: 169ms\n",
            "56:\tlearn: 0.3909798\ttotal: 217ms\tremaining: 164ms\n",
            "57:\tlearn: 0.3903727\ttotal: 221ms\tremaining: 160ms\n",
            "58:\tlearn: 0.3901873\ttotal: 225ms\tremaining: 156ms\n",
            "59:\tlearn: 0.3899569\ttotal: 228ms\tremaining: 152ms\n",
            "60:\tlearn: 0.3896018\ttotal: 231ms\tremaining: 148ms\n",
            "61:\tlearn: 0.3894189\ttotal: 233ms\tremaining: 143ms\n",
            "62:\tlearn: 0.3891676\ttotal: 236ms\tremaining: 139ms\n",
            "63:\tlearn: 0.3888761\ttotal: 239ms\tremaining: 135ms\n",
            "64:\tlearn: 0.3888193\ttotal: 241ms\tremaining: 130ms\n",
            "65:\tlearn: 0.3883252\ttotal: 249ms\tremaining: 128ms\n",
            "66:\tlearn: 0.3879418\ttotal: 252ms\tremaining: 124ms\n",
            "67:\tlearn: 0.3876917\ttotal: 254ms\tremaining: 120ms\n",
            "68:\tlearn: 0.3873182\ttotal: 258ms\tremaining: 116ms\n",
            "69:\tlearn: 0.3871093\ttotal: 261ms\tremaining: 112ms\n",
            "70:\tlearn: 0.3871086\ttotal: 263ms\tremaining: 107ms\n",
            "71:\tlearn: 0.3870640\ttotal: 265ms\tremaining: 103ms\n",
            "72:\tlearn: 0.3865572\ttotal: 268ms\tremaining: 99.3ms\n",
            "73:\tlearn: 0.3865531\ttotal: 270ms\tremaining: 94.8ms\n",
            "74:\tlearn: 0.3864642\ttotal: 273ms\tremaining: 91.1ms\n",
            "75:\tlearn: 0.3864292\ttotal: 279ms\tremaining: 88ms\n",
            "76:\tlearn: 0.3862462\ttotal: 282ms\tremaining: 84.3ms\n",
            "77:\tlearn: 0.3862424\ttotal: 284ms\tremaining: 80ms\n",
            "78:\tlearn: 0.3862170\ttotal: 287ms\tremaining: 76.3ms\n",
            "79:\tlearn: 0.3858887\ttotal: 291ms\tremaining: 72.6ms\n",
            "80:\tlearn: 0.3857342\ttotal: 294ms\tremaining: 68.9ms\n",
            "81:\tlearn: 0.3850875\ttotal: 297ms\tremaining: 65.2ms\n",
            "82:\tlearn: 0.3848890\ttotal: 300ms\tremaining: 61.4ms\n",
            "83:\tlearn: 0.3846556\ttotal: 303ms\tremaining: 57.7ms\n",
            "84:\tlearn: 0.3846446\ttotal: 304ms\tremaining: 53.7ms\n",
            "85:\tlearn: 0.3846442\ttotal: 305ms\tremaining: 49.7ms\n",
            "86:\tlearn: 0.3846336\ttotal: 309ms\tremaining: 46.1ms\n",
            "87:\tlearn: 0.3844856\ttotal: 312ms\tremaining: 42.5ms\n",
            "88:\tlearn: 0.3844744\ttotal: 315ms\tremaining: 38.9ms\n",
            "89:\tlearn: 0.3843734\ttotal: 318ms\tremaining: 35.4ms\n",
            "90:\tlearn: 0.3841711\ttotal: 321ms\tremaining: 31.8ms\n",
            "91:\tlearn: 0.3840654\ttotal: 325ms\tremaining: 28.2ms\n",
            "92:\tlearn: 0.3838650\ttotal: 333ms\tremaining: 25.1ms\n",
            "93:\tlearn: 0.3836969\ttotal: 337ms\tremaining: 21.5ms\n",
            "94:\tlearn: 0.3834216\ttotal: 340ms\tremaining: 17.9ms\n",
            "95:\tlearn: 0.3831802\ttotal: 343ms\tremaining: 14.3ms\n",
            "96:\tlearn: 0.3828241\ttotal: 346ms\tremaining: 10.7ms\n",
            "97:\tlearn: 0.3826450\ttotal: 350ms\tremaining: 7.14ms\n",
            "98:\tlearn: 0.3824664\ttotal: 353ms\tremaining: 3.57ms\n",
            "99:\tlearn: 0.3824380\ttotal: 357ms\tremaining: 0us\n",
            "Best parameters: {'learning_rate': 0.1, 'n_estimators': 100}\n",
            "Best ROC-AUC score: 0.8507340292792653\n",
            "Validation ROC-AUC score: 0.7748344370860927\n"
          ]
        }
      ]
    },
    {
      "cell_type": "markdown",
      "source": [
        "обучаем"
      ],
      "metadata": {
        "id": "oR5kGwPtzf4n"
      }
    },
    {
      "cell_type": "code",
      "source": [
        "clf2 = CatBoostClassifier(cat_features=cat_cols, learning_rate=0.1, n_estimators=100)\n",
        "clf2.fit(X_train, y_train)"
      ],
      "metadata": {
        "id": "oOyMCohCoSX7",
        "outputId": "6576c532-be1e-46b5-8ac0-bb3bfda8d6bb",
        "colab": {
          "base_uri": "https://localhost:8080/"
        }
      },
      "execution_count": null,
      "outputs": [
        {
          "output_type": "stream",
          "name": "stdout",
          "text": [
            "0:\tlearn: 0.6568616\ttotal: 4.22ms\tremaining: 417ms\n",
            "1:\tlearn: 0.6257554\ttotal: 8.46ms\tremaining: 415ms\n",
            "2:\tlearn: 0.5988467\ttotal: 11.8ms\tremaining: 381ms\n",
            "3:\tlearn: 0.5763852\ttotal: 15.2ms\tremaining: 364ms\n",
            "4:\tlearn: 0.5588328\ttotal: 18.6ms\tremaining: 353ms\n",
            "5:\tlearn: 0.5427589\ttotal: 24.1ms\tremaining: 377ms\n",
            "6:\tlearn: 0.5276966\ttotal: 27.9ms\tremaining: 370ms\n",
            "7:\tlearn: 0.5152492\ttotal: 32.5ms\tremaining: 374ms\n",
            "8:\tlearn: 0.5045771\ttotal: 36.6ms\tremaining: 371ms\n",
            "9:\tlearn: 0.4950294\ttotal: 42.1ms\tremaining: 379ms\n",
            "10:\tlearn: 0.4858723\ttotal: 45.2ms\tremaining: 366ms\n",
            "11:\tlearn: 0.4774517\ttotal: 48.5ms\tremaining: 356ms\n",
            "12:\tlearn: 0.4707478\ttotal: 50.5ms\tremaining: 338ms\n",
            "13:\tlearn: 0.4641716\ttotal: 54ms\tremaining: 332ms\n",
            "14:\tlearn: 0.4590523\ttotal: 55.8ms\tremaining: 316ms\n",
            "15:\tlearn: 0.4528122\ttotal: 59.4ms\tremaining: 312ms\n",
            "16:\tlearn: 0.4471808\ttotal: 62.6ms\tremaining: 306ms\n",
            "17:\tlearn: 0.4424357\ttotal: 65.1ms\tremaining: 297ms\n",
            "18:\tlearn: 0.4383912\ttotal: 68.3ms\tremaining: 291ms\n",
            "19:\tlearn: 0.4344450\ttotal: 70.9ms\tremaining: 283ms\n",
            "20:\tlearn: 0.4306985\ttotal: 74ms\tremaining: 279ms\n",
            "21:\tlearn: 0.4276146\ttotal: 77.3ms\tremaining: 274ms\n",
            "22:\tlearn: 0.4245941\ttotal: 80.9ms\tremaining: 271ms\n",
            "23:\tlearn: 0.4224470\ttotal: 87.4ms\tremaining: 277ms\n",
            "24:\tlearn: 0.4198529\ttotal: 96.8ms\tremaining: 290ms\n",
            "25:\tlearn: 0.4175541\ttotal: 102ms\tremaining: 291ms\n",
            "26:\tlearn: 0.4155935\ttotal: 106ms\tremaining: 287ms\n",
            "27:\tlearn: 0.4137462\ttotal: 110ms\tremaining: 282ms\n",
            "28:\tlearn: 0.4121288\ttotal: 113ms\tremaining: 276ms\n",
            "29:\tlearn: 0.4104275\ttotal: 116ms\tremaining: 272ms\n",
            "30:\tlearn: 0.4093439\ttotal: 118ms\tremaining: 263ms\n",
            "31:\tlearn: 0.4081437\ttotal: 121ms\tremaining: 256ms\n",
            "32:\tlearn: 0.4065023\ttotal: 124ms\tremaining: 251ms\n",
            "33:\tlearn: 0.4051917\ttotal: 127ms\tremaining: 247ms\n",
            "34:\tlearn: 0.4036604\ttotal: 131ms\tremaining: 243ms\n",
            "35:\tlearn: 0.4026408\ttotal: 134ms\tremaining: 238ms\n",
            "36:\tlearn: 0.4018471\ttotal: 137ms\tremaining: 234ms\n",
            "37:\tlearn: 0.4012011\ttotal: 140ms\tremaining: 229ms\n",
            "38:\tlearn: 0.4002579\ttotal: 145ms\tremaining: 227ms\n",
            "39:\tlearn: 0.3990442\ttotal: 148ms\tremaining: 223ms\n",
            "40:\tlearn: 0.3980552\ttotal: 153ms\tremaining: 221ms\n",
            "41:\tlearn: 0.3972582\ttotal: 157ms\tremaining: 217ms\n",
            "42:\tlearn: 0.3968079\ttotal: 161ms\tremaining: 213ms\n",
            "43:\tlearn: 0.3962750\ttotal: 164ms\tremaining: 209ms\n",
            "44:\tlearn: 0.3956544\ttotal: 167ms\tremaining: 204ms\n",
            "45:\tlearn: 0.3951355\ttotal: 170ms\tremaining: 199ms\n",
            "46:\tlearn: 0.3947509\ttotal: 172ms\tremaining: 194ms\n",
            "47:\tlearn: 0.3941569\ttotal: 175ms\tremaining: 190ms\n",
            "48:\tlearn: 0.3938395\ttotal: 179ms\tremaining: 186ms\n",
            "49:\tlearn: 0.3931360\ttotal: 182ms\tremaining: 182ms\n",
            "50:\tlearn: 0.3923900\ttotal: 186ms\tremaining: 178ms\n",
            "51:\tlearn: 0.3916124\ttotal: 189ms\tremaining: 175ms\n",
            "52:\tlearn: 0.3915539\ttotal: 191ms\tremaining: 169ms\n",
            "53:\tlearn: 0.3915484\ttotal: 193ms\tremaining: 164ms\n",
            "54:\tlearn: 0.3911700\ttotal: 199ms\tremaining: 163ms\n",
            "55:\tlearn: 0.3909848\ttotal: 201ms\tremaining: 158ms\n",
            "56:\tlearn: 0.3909798\ttotal: 202ms\tremaining: 153ms\n",
            "57:\tlearn: 0.3903727\ttotal: 206ms\tremaining: 149ms\n",
            "58:\tlearn: 0.3901873\ttotal: 209ms\tremaining: 146ms\n",
            "59:\tlearn: 0.3899569\ttotal: 213ms\tremaining: 142ms\n",
            "60:\tlearn: 0.3896018\ttotal: 217ms\tremaining: 139ms\n",
            "61:\tlearn: 0.3894189\ttotal: 219ms\tremaining: 134ms\n",
            "62:\tlearn: 0.3891676\ttotal: 222ms\tremaining: 130ms\n",
            "63:\tlearn: 0.3888761\ttotal: 225ms\tremaining: 127ms\n",
            "64:\tlearn: 0.3888193\ttotal: 227ms\tremaining: 122ms\n",
            "65:\tlearn: 0.3883252\ttotal: 230ms\tremaining: 119ms\n",
            "66:\tlearn: 0.3879418\ttotal: 234ms\tremaining: 115ms\n",
            "67:\tlearn: 0.3876917\ttotal: 235ms\tremaining: 111ms\n",
            "68:\tlearn: 0.3873182\ttotal: 239ms\tremaining: 107ms\n",
            "69:\tlearn: 0.3871093\ttotal: 242ms\tremaining: 104ms\n",
            "70:\tlearn: 0.3871086\ttotal: 243ms\tremaining: 99.4ms\n",
            "71:\tlearn: 0.3870640\ttotal: 249ms\tremaining: 96.9ms\n",
            "72:\tlearn: 0.3865572\ttotal: 254ms\tremaining: 93.9ms\n",
            "73:\tlearn: 0.3865531\ttotal: 255ms\tremaining: 89.7ms\n",
            "74:\tlearn: 0.3864642\ttotal: 259ms\tremaining: 86.2ms\n",
            "75:\tlearn: 0.3864292\ttotal: 262ms\tremaining: 82.7ms\n",
            "76:\tlearn: 0.3862462\ttotal: 265ms\tremaining: 79.2ms\n",
            "77:\tlearn: 0.3862424\ttotal: 266ms\tremaining: 75.2ms\n",
            "78:\tlearn: 0.3862170\ttotal: 270ms\tremaining: 71.7ms\n",
            "79:\tlearn: 0.3858887\ttotal: 273ms\tremaining: 68.2ms\n",
            "80:\tlearn: 0.3857342\ttotal: 276ms\tremaining: 64.7ms\n",
            "81:\tlearn: 0.3850875\ttotal: 279ms\tremaining: 61.3ms\n",
            "82:\tlearn: 0.3848890\ttotal: 282ms\tremaining: 57.7ms\n",
            "83:\tlearn: 0.3846556\ttotal: 285ms\tremaining: 54.2ms\n",
            "84:\tlearn: 0.3846446\ttotal: 286ms\tremaining: 50.5ms\n",
            "85:\tlearn: 0.3846442\ttotal: 287ms\tremaining: 46.8ms\n",
            "86:\tlearn: 0.3846336\ttotal: 290ms\tremaining: 43.4ms\n",
            "87:\tlearn: 0.3844856\ttotal: 293ms\tremaining: 40ms\n",
            "88:\tlearn: 0.3844744\ttotal: 297ms\tremaining: 36.7ms\n",
            "89:\tlearn: 0.3843734\ttotal: 300ms\tremaining: 33.3ms\n",
            "90:\tlearn: 0.3841711\ttotal: 303ms\tremaining: 30ms\n",
            "91:\tlearn: 0.3840654\ttotal: 306ms\tremaining: 26.6ms\n",
            "92:\tlearn: 0.3838650\ttotal: 309ms\tremaining: 23.3ms\n",
            "93:\tlearn: 0.3836969\ttotal: 313ms\tremaining: 20ms\n",
            "94:\tlearn: 0.3834216\ttotal: 316ms\tremaining: 16.6ms\n",
            "95:\tlearn: 0.3831802\ttotal: 319ms\tremaining: 13.3ms\n",
            "96:\tlearn: 0.3828241\ttotal: 322ms\tremaining: 9.97ms\n",
            "97:\tlearn: 0.3826450\ttotal: 325ms\tremaining: 6.64ms\n",
            "98:\tlearn: 0.3824664\ttotal: 329ms\tremaining: 3.33ms\n",
            "99:\tlearn: 0.3824380\ttotal: 334ms\tremaining: 0us\n"
          ]
        },
        {
          "output_type": "execute_result",
          "data": {
            "text/plain": [
              "<catboost.core.CatBoostClassifier at 0x7f7a4d02e100>"
            ]
          },
          "metadata": {},
          "execution_count": 31
        }
      ]
    },
    {
      "cell_type": "markdown",
      "metadata": {
        "id": "dDMXbvNZEEZV"
      },
      "source": [
        "# Предсказания"
      ]
    },
    {
      "cell_type": "code",
      "metadata": {
        "id": "G_P4wFNaEEZW"
      },
      "source": [
        "best_model = clf# какая-то предыдущая модель"
      ],
      "execution_count": null,
      "outputs": []
    },
    {
      "cell_type": "code",
      "source": [
        "best_model.predict(X_test)"
      ],
      "metadata": {
        "id": "GpqHcv2np-Yt",
        "outputId": "f79064bd-15ee-46fa-e8e6-86e14811d22e",
        "colab": {
          "base_uri": "https://localhost:8080/"
        }
      },
      "execution_count": null,
      "outputs": [
        {
          "output_type": "execute_result",
          "data": {
            "text/plain": [
              "array([0, 1, 1, ..., 1, 1, 0])"
            ]
          },
          "metadata": {},
          "execution_count": 35
        }
      ]
    },
    {
      "cell_type": "code",
      "source": [
        "X_test = pd.read_csv('./test.csv')\n",
        "submission = pd.read_csv('./submission.csv')"
      ],
      "metadata": {
        "id": "DoKEjAJot_uZ"
      },
      "execution_count": null,
      "outputs": []
    },
    {
      "cell_type": "code",
      "metadata": {
        "id": "FfSufx0CEEZZ",
        "outputId": "7f344df8-953a-4519-8dd5-914d229b9135",
        "colab": {
          "base_uri": "https://localhost:8080/",
          "height": 621
        }
      },
      "source": [
        "X_test = pd.read_csv('./test.csv')\n",
        "submission = pd.read_csv('./submission.csv')\n",
        "\n",
        "submission['Churn'] = best_model.predict_proba(X_test)[:,best_model.predict(X_test)]\n",
        "submission.to_csv('./my_submission.csv', index=False)"
      ],
      "execution_count": null,
      "outputs": [
        {
          "output_type": "error",
          "ename": "ValueError",
          "evalue": "ignored",
          "traceback": [
            "\u001b[0;31m---------------------------------------------------------------------------\u001b[0m",
            "\u001b[0;31mValueError\u001b[0m                                Traceback (most recent call last)",
            "\u001b[0;32m<ipython-input-60-fa4ab7139411>\u001b[0m in \u001b[0;36m<module>\u001b[0;34m\u001b[0m\n\u001b[1;32m      2\u001b[0m \u001b[0msubmission\u001b[0m \u001b[0;34m=\u001b[0m \u001b[0mpd\u001b[0m\u001b[0;34m.\u001b[0m\u001b[0mread_csv\u001b[0m\u001b[0;34m(\u001b[0m\u001b[0;34m'./submission.csv'\u001b[0m\u001b[0;34m)\u001b[0m\u001b[0;34m\u001b[0m\u001b[0;34m\u001b[0m\u001b[0m\n\u001b[1;32m      3\u001b[0m \u001b[0;34m\u001b[0m\u001b[0m\n\u001b[0;32m----> 4\u001b[0;31m \u001b[0msubmission\u001b[0m\u001b[0;34m[\u001b[0m\u001b[0;34m'Churn'\u001b[0m\u001b[0;34m]\u001b[0m \u001b[0;34m=\u001b[0m \u001b[0mbest_model\u001b[0m\u001b[0;34m.\u001b[0m\u001b[0mpredict_proba\u001b[0m\u001b[0;34m(\u001b[0m\u001b[0mX_test\u001b[0m\u001b[0;34m)\u001b[0m\u001b[0;34m[\u001b[0m\u001b[0;34m:\u001b[0m\u001b[0;34m,\u001b[0m\u001b[0mbest_model\u001b[0m\u001b[0;34m.\u001b[0m\u001b[0mpredict\u001b[0m\u001b[0;34m(\u001b[0m\u001b[0mX_test\u001b[0m\u001b[0;34m)\u001b[0m\u001b[0;34m]\u001b[0m\u001b[0;34m\u001b[0m\u001b[0;34m\u001b[0m\u001b[0m\n\u001b[0m\u001b[1;32m      5\u001b[0m \u001b[0msubmission\u001b[0m\u001b[0;34m.\u001b[0m\u001b[0mto_csv\u001b[0m\u001b[0;34m(\u001b[0m\u001b[0;34m'./my_submission.csv'\u001b[0m\u001b[0;34m,\u001b[0m \u001b[0mindex\u001b[0m\u001b[0;34m=\u001b[0m\u001b[0;32mFalse\u001b[0m\u001b[0;34m)\u001b[0m\u001b[0;34m\u001b[0m\u001b[0;34m\u001b[0m\u001b[0m\n",
            "\u001b[0;32m/usr/local/lib/python3.9/dist-packages/sklearn/linear_model/_logistic.py\u001b[0m in \u001b[0;36mpredict_proba\u001b[0;34m(self, X)\u001b[0m\n\u001b[1;32m   1370\u001b[0m         )\n\u001b[1;32m   1371\u001b[0m         \u001b[0;32mif\u001b[0m \u001b[0movr\u001b[0m\u001b[0;34m:\u001b[0m\u001b[0;34m\u001b[0m\u001b[0;34m\u001b[0m\u001b[0m\n\u001b[0;32m-> 1372\u001b[0;31m             \u001b[0;32mreturn\u001b[0m \u001b[0msuper\u001b[0m\u001b[0;34m(\u001b[0m\u001b[0;34m)\u001b[0m\u001b[0;34m.\u001b[0m\u001b[0m_predict_proba_lr\u001b[0m\u001b[0;34m(\u001b[0m\u001b[0mX\u001b[0m\u001b[0;34m)\u001b[0m\u001b[0;34m\u001b[0m\u001b[0;34m\u001b[0m\u001b[0m\n\u001b[0m\u001b[1;32m   1373\u001b[0m         \u001b[0;32melse\u001b[0m\u001b[0;34m:\u001b[0m\u001b[0;34m\u001b[0m\u001b[0;34m\u001b[0m\u001b[0m\n\u001b[1;32m   1374\u001b[0m             \u001b[0mdecision\u001b[0m \u001b[0;34m=\u001b[0m \u001b[0mself\u001b[0m\u001b[0;34m.\u001b[0m\u001b[0mdecision_function\u001b[0m\u001b[0;34m(\u001b[0m\u001b[0mX\u001b[0m\u001b[0;34m)\u001b[0m\u001b[0;34m\u001b[0m\u001b[0;34m\u001b[0m\u001b[0m\n",
            "\u001b[0;32m/usr/local/lib/python3.9/dist-packages/sklearn/linear_model/_base.py\u001b[0m in \u001b[0;36m_predict_proba_lr\u001b[0;34m(self, X)\u001b[0m\n\u001b[1;32m    432\u001b[0m         \u001b[0mmulticlass\u001b[0m \u001b[0;32mis\u001b[0m \u001b[0mhandled\u001b[0m \u001b[0mby\u001b[0m \u001b[0mnormalizing\u001b[0m \u001b[0mthat\u001b[0m \u001b[0mover\u001b[0m \u001b[0mall\u001b[0m \u001b[0mclasses\u001b[0m\u001b[0;34m.\u001b[0m\u001b[0;34m\u001b[0m\u001b[0;34m\u001b[0m\u001b[0m\n\u001b[1;32m    433\u001b[0m         \"\"\"\n\u001b[0;32m--> 434\u001b[0;31m         \u001b[0mprob\u001b[0m \u001b[0;34m=\u001b[0m \u001b[0mself\u001b[0m\u001b[0;34m.\u001b[0m\u001b[0mdecision_function\u001b[0m\u001b[0;34m(\u001b[0m\u001b[0mX\u001b[0m\u001b[0;34m)\u001b[0m\u001b[0;34m\u001b[0m\u001b[0;34m\u001b[0m\u001b[0m\n\u001b[0m\u001b[1;32m    435\u001b[0m         \u001b[0mexpit\u001b[0m\u001b[0;34m(\u001b[0m\u001b[0mprob\u001b[0m\u001b[0;34m,\u001b[0m \u001b[0mout\u001b[0m\u001b[0;34m=\u001b[0m\u001b[0mprob\u001b[0m\u001b[0;34m)\u001b[0m\u001b[0;34m\u001b[0m\u001b[0;34m\u001b[0m\u001b[0m\n\u001b[1;32m    436\u001b[0m         \u001b[0;32mif\u001b[0m \u001b[0mprob\u001b[0m\u001b[0;34m.\u001b[0m\u001b[0mndim\u001b[0m \u001b[0;34m==\u001b[0m \u001b[0;36m1\u001b[0m\u001b[0;34m:\u001b[0m\u001b[0;34m\u001b[0m\u001b[0;34m\u001b[0m\u001b[0m\n",
            "\u001b[0;32m/usr/local/lib/python3.9/dist-packages/sklearn/linear_model/_base.py\u001b[0m in \u001b[0;36mdecision_function\u001b[0;34m(self, X)\u001b[0m\n\u001b[1;32m    398\u001b[0m         \u001b[0mxp\u001b[0m\u001b[0;34m,\u001b[0m \u001b[0m_\u001b[0m \u001b[0;34m=\u001b[0m \u001b[0mget_namespace\u001b[0m\u001b[0;34m(\u001b[0m\u001b[0mX\u001b[0m\u001b[0;34m)\u001b[0m\u001b[0;34m\u001b[0m\u001b[0;34m\u001b[0m\u001b[0m\n\u001b[1;32m    399\u001b[0m \u001b[0;34m\u001b[0m\u001b[0m\n\u001b[0;32m--> 400\u001b[0;31m         \u001b[0mX\u001b[0m \u001b[0;34m=\u001b[0m \u001b[0mself\u001b[0m\u001b[0;34m.\u001b[0m\u001b[0m_validate_data\u001b[0m\u001b[0;34m(\u001b[0m\u001b[0mX\u001b[0m\u001b[0;34m,\u001b[0m \u001b[0maccept_sparse\u001b[0m\u001b[0;34m=\u001b[0m\u001b[0;34m\"csr\"\u001b[0m\u001b[0;34m,\u001b[0m \u001b[0mreset\u001b[0m\u001b[0;34m=\u001b[0m\u001b[0;32mFalse\u001b[0m\u001b[0;34m)\u001b[0m\u001b[0;34m\u001b[0m\u001b[0;34m\u001b[0m\u001b[0m\n\u001b[0m\u001b[1;32m    401\u001b[0m         \u001b[0mscores\u001b[0m \u001b[0;34m=\u001b[0m \u001b[0msafe_sparse_dot\u001b[0m\u001b[0;34m(\u001b[0m\u001b[0mX\u001b[0m\u001b[0;34m,\u001b[0m \u001b[0mself\u001b[0m\u001b[0;34m.\u001b[0m\u001b[0mcoef_\u001b[0m\u001b[0;34m.\u001b[0m\u001b[0mT\u001b[0m\u001b[0;34m,\u001b[0m \u001b[0mdense_output\u001b[0m\u001b[0;34m=\u001b[0m\u001b[0;32mTrue\u001b[0m\u001b[0;34m)\u001b[0m \u001b[0;34m+\u001b[0m \u001b[0mself\u001b[0m\u001b[0;34m.\u001b[0m\u001b[0mintercept_\u001b[0m\u001b[0;34m\u001b[0m\u001b[0;34m\u001b[0m\u001b[0m\n\u001b[1;32m    402\u001b[0m         \u001b[0;32mreturn\u001b[0m \u001b[0mxp\u001b[0m\u001b[0;34m.\u001b[0m\u001b[0mreshape\u001b[0m\u001b[0;34m(\u001b[0m\u001b[0mscores\u001b[0m\u001b[0;34m,\u001b[0m \u001b[0;34m-\u001b[0m\u001b[0;36m1\u001b[0m\u001b[0;34m)\u001b[0m \u001b[0;32mif\u001b[0m \u001b[0mscores\u001b[0m\u001b[0;34m.\u001b[0m\u001b[0mshape\u001b[0m\u001b[0;34m[\u001b[0m\u001b[0;36m1\u001b[0m\u001b[0;34m]\u001b[0m \u001b[0;34m==\u001b[0m \u001b[0;36m1\u001b[0m \u001b[0;32melse\u001b[0m \u001b[0mscores\u001b[0m\u001b[0;34m\u001b[0m\u001b[0;34m\u001b[0m\u001b[0m\n",
            "\u001b[0;32m/usr/local/lib/python3.9/dist-packages/sklearn/base.py\u001b[0m in \u001b[0;36m_validate_data\u001b[0;34m(self, X, y, reset, validate_separately, **check_params)\u001b[0m\n\u001b[1;32m    527\u001b[0m             \u001b[0mvalidated\u001b[0m\u001b[0;34m.\u001b[0m\u001b[0;34m\u001b[0m\u001b[0;34m\u001b[0m\u001b[0m\n\u001b[1;32m    528\u001b[0m         \"\"\"\n\u001b[0;32m--> 529\u001b[0;31m         \u001b[0mself\u001b[0m\u001b[0;34m.\u001b[0m\u001b[0m_check_feature_names\u001b[0m\u001b[0;34m(\u001b[0m\u001b[0mX\u001b[0m\u001b[0;34m,\u001b[0m \u001b[0mreset\u001b[0m\u001b[0;34m=\u001b[0m\u001b[0mreset\u001b[0m\u001b[0;34m)\u001b[0m\u001b[0;34m\u001b[0m\u001b[0;34m\u001b[0m\u001b[0m\n\u001b[0m\u001b[1;32m    530\u001b[0m \u001b[0;34m\u001b[0m\u001b[0m\n\u001b[1;32m    531\u001b[0m         \u001b[0;32mif\u001b[0m \u001b[0my\u001b[0m \u001b[0;32mis\u001b[0m \u001b[0;32mNone\u001b[0m \u001b[0;32mand\u001b[0m \u001b[0mself\u001b[0m\u001b[0;34m.\u001b[0m\u001b[0m_get_tags\u001b[0m\u001b[0;34m(\u001b[0m\u001b[0;34m)\u001b[0m\u001b[0;34m[\u001b[0m\u001b[0;34m\"requires_y\"\u001b[0m\u001b[0;34m]\u001b[0m\u001b[0;34m:\u001b[0m\u001b[0;34m\u001b[0m\u001b[0;34m\u001b[0m\u001b[0m\n",
            "\u001b[0;32m/usr/local/lib/python3.9/dist-packages/sklearn/base.py\u001b[0m in \u001b[0;36m_check_feature_names\u001b[0;34m(self, X, reset)\u001b[0m\n\u001b[1;32m    460\u001b[0m                 )\n\u001b[1;32m    461\u001b[0m \u001b[0;34m\u001b[0m\u001b[0m\n\u001b[0;32m--> 462\u001b[0;31m             \u001b[0;32mraise\u001b[0m \u001b[0mValueError\u001b[0m\u001b[0;34m(\u001b[0m\u001b[0mmessage\u001b[0m\u001b[0;34m)\u001b[0m\u001b[0;34m\u001b[0m\u001b[0;34m\u001b[0m\u001b[0m\n\u001b[0m\u001b[1;32m    463\u001b[0m \u001b[0;34m\u001b[0m\u001b[0m\n\u001b[1;32m    464\u001b[0m     def _validate_data(\n",
            "\u001b[0;31mValueError\u001b[0m: The feature names should match those that were passed during fit.\nFeature names unseen at fit time:\n- HasChild\n- HasContractPhone\n- HasDeviceProtection\n- HasInternetService\n- HasMovieSubscription\n- ...\nFeature names seen at fit time, yet now missing:\n- HasChild_No\n- HasChild_Yes\n- HasContractPhone_Month-to-month\n- HasContractPhone_One year\n- HasContractPhone_Two year\n- ...\n"
          ]
        }
      ]
    },
    {
      "cell_type": "markdown",
      "source": [
        "Лучшее решение отправьте в Stepik."
      ],
      "metadata": {
        "id": "tzGirrp5l2I-"
      }
    }
  ]
}